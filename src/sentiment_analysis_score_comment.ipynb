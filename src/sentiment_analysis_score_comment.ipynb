{
 "cells": [
  {
   "cell_type": "code",
   "execution_count": null,
   "metadata": {},
   "outputs": [],
   "source": [
    "def writing(query):\n",
    "    f = open(\"C:/Users/users/Desktop/\"+query+'뉴스댓글.txt', 'r', encoding='utf-8')\n",
    "    \n",
    "    while True:\n",
    "        text = f.readline()       #수집한 댓글 읽기\n",
    "         if not text:    \n",
    "            break\n",
    "            \n",
    "        for emotion in emotlist:\n",
    "            emot_score = 0   \n",
    "            for elem in emotdict[emotion]:           \n",
    "                try : \n",
    "                    emot_score += elem[1]*counting(text, elem[0], 0, 0)    #댓글에 포함된 감성 단어를 찾아 점수 계산\n",
    "                except : \n",
    "                    emot_score = emot_score \n",
    "            emot_sc[emotion] += score\n",
    "            count = count + 1\n",
    "            \n",
    "    for emotion in emot_sc:   \n",
    "        emot_sc[emotion] = emot_sc[emotion]/count   #감성 점수의 평균 계산\n",
    "    \n",
    "    f.close()"
   ]
  }
 ],
 "metadata": {
  "kernelspec": {
   "display_name": "Python 3",
   "language": "python",
   "name": "python3"
  },
  "language_info": {
   "codemirror_mode": {
    "name": "ipython",
    "version": 3
   },
   "file_extension": ".py",
   "mimetype": "text/x-python",
   "name": "python",
   "nbconvert_exporter": "python",
   "pygments_lexer": "ipython3",
   "version": "3.6.5"
  }
 },
 "nbformat": 4,
 "nbformat_minor": 2
}
